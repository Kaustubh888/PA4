{
 "cells": [
  {
   "cell_type": "code",
   "execution_count": null,
   "id": "c57b8d7e",
   "metadata": {},
   "outputs": [],
   "source": [
    "1.\n",
    "\n",
    "=   num = int(input(\"Please enter a number : \"))\n",
    "    facto = 1\n",
    "    for i in range(1, num+1):\n",
    "        facto = facto * i\n",
    "    print(\"Factorial of %d is %d\" %(number, facto))"
   ]
  },
  {
   "cell_type": "code",
   "execution_count": null,
   "id": "a8da0c41",
   "metadata": {},
   "outputs": [],
   "source": [
    "2.\n",
    "\n",
    "=   num = int(input(\"Enter the number:\"))\n",
    "    for i in range(1, 11):\n",
    "        print(num, 'x', i,'=',num*i)"
   ]
  },
  {
   "cell_type": "code",
   "execution_count": null,
   "id": "b6735e6a",
   "metadata": {},
   "outputs": [],
   "source": [
    "3.\n",
    "\n",
    "=   \n",
    "def fibonacci(n):\n",
    "    a = 0\n",
    "    b = 1\n",
    "    for i in range(1, n):\n",
    "        c = a + b\n",
    "        a = b\n",
    "        b = c\n",
    "        print(a)\n",
    "    return b\n",
    "\n",
    "print(fibonacci(67))"
   ]
  },
  {
   "cell_type": "code",
   "execution_count": null,
   "id": "d4b9dc40",
   "metadata": {},
   "outputs": [],
   "source": [
    "4.\n",
    "\n",
    "=  \n",
    "\n",
    "num1 = int(input(\"Enter a number:\")) \n",
    "b = len(str(num1))\n",
    "num2 = num1\n",
    "sum1 = 0\n",
    "while num1!= 0:\n",
    "    r = num1 % 10\n",
    "    sum1 = sum1+(r**b)\n",
    "    num1 = num1//10\n",
    "    \n",
    "if num2 == sum1:\n",
    "    print(\"Number \", num2, \"is armstrong number\")\n",
    "else:\n",
    "    print(\"Number\", num2, \"is not armstrong number\")"
   ]
  },
  {
   "cell_type": "code",
   "execution_count": null,
   "id": "75fd9a69",
   "metadata": {},
   "outputs": [],
   "source": [
    "5.\n",
    "\n",
    "=  \n",
    "\n",
    "lower = int(input(\"Enter start:\"))\n",
    "upper = int(input(\"Enter stop:\"))\n",
    "\n",
    "for num1 in range(lower, upper + 1):\n",
    "    b = len(str(num1))\n",
    "    num2 = num1\n",
    "    sum1 = 0\n",
    "    while num1!= 0:\n",
    "        r = num1 % 10\n",
    "        sum1 = sum1+(r**b)\n",
    "        num1 = num1//10\n",
    "    \n",
    "    if num2 == sum1:\n",
    "        print(\"Number \", num2, \"is armstrong number\")\n",
    "    else:\n",
    "        print(\"Number\", num2, \"is not armstrong number\")"
   ]
  },
  {
   "cell_type": "code",
   "execution_count": null,
   "id": "b6c1be1a",
   "metadata": {},
   "outputs": [],
   "source": [
    "6.\n",
    "\n",
    "=\n",
    "\n",
    "num = int(input(\"Enter a number:\"))\n",
    "sum = 0\n",
    "for x in range (1, num+1):\n",
    "    sum =sum + x\n",
    "    \n",
    "print('The sum of natural number =', sum)"
   ]
  }
 ],
 "metadata": {
  "kernelspec": {
   "display_name": "Python 3",
   "language": "python",
   "name": "python3"
  },
  "language_info": {
   "codemirror_mode": {
    "name": "ipython",
    "version": 3
   },
   "file_extension": ".py",
   "mimetype": "text/x-python",
   "name": "python",
   "nbconvert_exporter": "python",
   "pygments_lexer": "ipython3",
   "version": "3.8.8"
  }
 },
 "nbformat": 4,
 "nbformat_minor": 5
}
